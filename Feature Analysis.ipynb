{
 "cells": [
  {
   "cell_type": "code",
   "execution_count": null,
   "metadata": {},
   "outputs": [],
   "source": [
    "import lib._util.visualplot as vp"
   ]
  },
  {
   "cell_type": "code",
   "execution_count": null,
   "metadata": {},
   "outputs": [],
   "source": [
    "# Plotly\n",
    "import plotly.graph_objects as go\n",
    "\n",
    "import pandas as pd"
   ]
  },
  {
   "cell_type": "markdown",
   "metadata": {},
   "source": [
    "# Useful Functions"
   ]
  },
  {
   "cell_type": "code",
   "execution_count": null,
   "metadata": {},
   "outputs": [],
   "source": [
    "SOURCE_PATH_DATA = 'resources/output/data_preparation/file/'\n",
    "OUT_PATH_GRAPH = 'resources/output/feature_analysis/graph/'"
   ]
  },
  {
   "cell_type": "markdown",
   "metadata": {},
   "source": [
    "# Data Loading"
   ]
  },
  {
   "cell_type": "code",
   "execution_count": null,
   "metadata": {},
   "outputs": [],
   "source": [
    "currency_pair = 'EURUSD'\n",
    "# filename      = f'DAT_ASCII_{currency_pair}_Day_201901-201906.csv'\n",
    "# filename      = f'DAT_ASCII_{currency_pair}_Hour_201901-201906.csv'\n",
    "# filename      = f'DAT_ASCII_{currency_pair}_Min_201901-201906.csv'\n",
    "\n",
    "filename      = f'DAT_ASCII_{currency_pair}_Day_Normalized.csv'\n",
    "# filename      = f'DAT_ASCII_{currency_pair}_Hour_Normalized.csv'\n",
    "# filename      = f'DAT_ASCII_{currency_pair}_Min_Normalized.csv'\n",
    "\n",
    "source_file = f'{SOURCE_PATH_DATA}{filename}'\n",
    "df_chunks = pd.read_csv(source_file, sep=',',\n",
    "                        parse_dates=['datetime'],\n",
    "                        date_parser=lambda x: pd.to_datetime(x, format='%Y-%m-%d %H:%M:%S'),\n",
    "                        chunksize=50_000)\n",
    "df = pd.concat(df_chunks)"
   ]
  },
  {
   "cell_type": "markdown",
   "metadata": {},
   "source": [
    "# EDA"
   ]
  },
  {
   "cell_type": "markdown",
   "metadata": {},
   "source": [
    "### N/A Values"
   ]
  },
  {
   "cell_type": "code",
   "execution_count": null,
   "metadata": {},
   "outputs": [],
   "source": [
    "vp.fast_stat(df)"
   ]
  },
  {
   "cell_type": "markdown",
   "metadata": {},
   "source": [
    "### Histogram"
   ]
  },
  {
   "cell_type": "code",
   "execution_count": null,
   "metadata": {},
   "outputs": [],
   "source": [
    "vp.histogram(df, title='Histogram', out_path=OUT_PATH_GRAPH, layout_height=2048)"
   ]
  },
  {
   "cell_type": "markdown",
   "metadata": {},
   "source": [
    "### Box-Plot"
   ]
  },
  {
   "cell_type": "code",
   "execution_count": null,
   "metadata": {},
   "outputs": [],
   "source": [
    "vp.boxplot(df, title='Box-Plot', out_path=OUT_PATH_GRAPH, layout_height=3072)"
   ]
  },
  {
   "cell_type": "markdown",
   "metadata": {},
   "source": [
    "### Violin-Plot"
   ]
  },
  {
   "cell_type": "code",
   "execution_count": null,
   "metadata": {},
   "outputs": [],
   "source": [
    "vp.violinplot(df, title='Violin-Plot', out_path=OUT_PATH_GRAPH, layout_height=3072)"
   ]
  },
  {
   "cell_type": "code",
   "execution_count": null,
   "metadata": {},
   "outputs": [],
   "source": []
  }
 ],
 "metadata": {
  "kernelspec": {
   "display_name": "Python 3",
   "language": "python",
   "name": "python3"
  },
  "language_info": {
   "codemirror_mode": {
    "name": "ipython",
    "version": 3
   },
   "file_extension": ".py",
   "mimetype": "text/x-python",
   "name": "python",
   "nbconvert_exporter": "python",
   "pygments_lexer": "ipython3",
   "version": "3.7.3"
  }
 },
 "nbformat": 4,
 "nbformat_minor": 2
}
