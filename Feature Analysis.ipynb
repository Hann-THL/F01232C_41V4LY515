{
 "cells": [
  {
   "cell_type": "code",
   "execution_count": null,
   "metadata": {},
   "outputs": [],
   "source": [
    "# Environment\n",
    "from lib._class.environment.ForexEnv import ForexEnv"
   ]
  },
  {
   "cell_type": "code",
   "execution_count": null,
   "metadata": {},
   "outputs": [],
   "source": [
    "# Plotly\n",
    "from plotly.offline import iplot, plot, init_notebook_mode\n",
    "import plotly.graph_objects as go\n",
    "init_notebook_mode(connected=True)\n",
    "\n",
    "import pandas as pd"
   ]
  },
  {
   "cell_type": "markdown",
   "metadata": {},
   "source": [
    "# Initialize Environment"
   ]
  },
  {
   "cell_type": "code",
   "execution_count": null,
   "metadata": {},
   "outputs": [],
   "source": [
    "currency_pair = 'EURUSD'\n",
    "filename      = f'DAT_ASCII_{currency_pair}_T_201901.csv'\n",
    "\n",
    "env = ForexEnv('resources/data/', filename, nrows=30_000, train_size=.5)"
   ]
  },
  {
   "cell_type": "markdown",
   "metadata": {},
   "source": [
    "# Feature Engineering"
   ]
  },
  {
   "cell_type": "code",
   "execution_count": null,
   "metadata": {},
   "outputs": [],
   "source": [
    "df = pd.DataFrame({\n",
    "    'datetime': env.datetimes,\n",
    "    'open_bid': env.open_bids,\n",
    "    'high_bid': env.high_bids,\n",
    "    'low_bid': env.low_bids,\n",
    "    'bid': env.bids,\n",
    "    'bid_rsi': env.bids_rsi,\n",
    "    'open_ask': env.open_asks,\n",
    "    'high_ask': env.high_asks,\n",
    "    'low_ask': env.low_asks,\n",
    "    'ask': env.asks,\n",
    "    'ask_rsi': env.asks_rsi\n",
    "})\n",
    "\n",
    "df['buy_profit'] = (df['ask'] - df['ask'][0]) * 100_000\n",
    "df['sell_profit'] = (df['bid'][0] - df['bid']) * 100_000\n",
    "\n",
    "# Reference: https://www.wikihow.com/Calculate-Velocity\n",
    "# Modified bid velocity to ensure it's having positive correlation with sell profit\n",
    "df['open_bid_velocity'] = (df['open_bid'][0] - df['open_bid']) / 2\n",
    "df['high_bid_velocity'] = (df['high_bid'][0] - df['high_bid']) / 2\n",
    "df['low_bid_velocity'] = (df['low_bid'][0] - df['low_bid']) / 2\n",
    "df['bid_velocity'] = (df['bid'][0] - df['bid']) / 2\n",
    "df['avg_bid_velocity'] = (df['open_bid_velocity'] + df['high_bid_velocity'] + df['low_bid_velocity'] + df['bid_velocity']) / 4\n",
    "\n",
    "df['open_ask_velocity'] = (df['open_ask'] - df['open_ask'][0]) / 2\n",
    "df['high_ask_velocity'] = (df['high_ask'] - df['high_ask'][0]) / 2\n",
    "df['low_ask_velocity'] = (df['low_ask'] - df['low_ask'][0]) / 2\n",
    "df['ask_velocity'] = (df['ask'] - df['ask'][0]) / 2\n",
    "df['avg_ask_velocity'] = (df['open_ask_velocity'] + df['high_ask_velocity'] + df['low_ask_velocity'] + df['ask_velocity']) / 4"
   ]
  },
  {
   "cell_type": "markdown",
   "metadata": {},
   "source": [
    "# Feature Correlation"
   ]
  },
  {
   "cell_type": "code",
   "execution_count": null,
   "metadata": {},
   "outputs": [],
   "source": [
    "corr_df = df[[x for x in df.columns if x != 'datetime']].corr()\n",
    "corr_df[['buy_profit', 'sell_profit']]"
   ]
  },
  {
   "cell_type": "markdown",
   "metadata": {},
   "source": [
    "### Buy Profit"
   ]
  },
  {
   "cell_type": "code",
   "execution_count": null,
   "metadata": {},
   "outputs": [],
   "source": [
    "df[[x for x in df.columns if 'ask' in x] + ['buy_profit']]"
   ]
  },
  {
   "cell_type": "markdown",
   "metadata": {},
   "source": [
    "### Sell Profit"
   ]
  },
  {
   "cell_type": "code",
   "execution_count": null,
   "metadata": {},
   "outputs": [],
   "source": [
    "df[[x for x in df.columns if 'bid' in x] + ['sell_profit']]"
   ]
  },
  {
   "cell_type": "code",
   "execution_count": null,
   "metadata": {},
   "outputs": [],
   "source": []
  }
 ],
 "metadata": {
  "kernelspec": {
   "display_name": "Python 3",
   "language": "python",
   "name": "python3"
  },
  "language_info": {
   "codemirror_mode": {
    "name": "ipython",
    "version": 3
   },
   "file_extension": ".py",
   "mimetype": "text/x-python",
   "name": "python",
   "nbconvert_exporter": "python",
   "pygments_lexer": "ipython3",
   "version": "3.7.3"
  }
 },
 "nbformat": 4,
 "nbformat_minor": 2
}
