{
 "cells": [
  {
   "cell_type": "code",
   "execution_count": null,
   "metadata": {},
   "outputs": [],
   "source": [
    "import lib._util.visualplot as vp\n",
    "import lib._util.fileproc as fp\n",
    "import lib._util.dimreduce as dr\n",
    "import lib._util.normalizer as nrm"
   ]
  },
  {
   "cell_type": "code",
   "execution_count": null,
   "metadata": {},
   "outputs": [],
   "source": [
    "import pandas as pd\n",
    "import numpy as np\n",
    "\n",
    "# Plotly\n",
    "import plotly.express as px\n",
    "import plotly.graph_objects as go\n",
    "\n",
    "# Time measurement\n",
    "import time\n",
    "from datetime import timedelta\n",
    "\n",
    "# Sound notification\n",
    "import winsound\n",
    "\n",
    "# Technical analysis\n",
    "import ta"
   ]
  },
  {
   "cell_type": "markdown",
   "metadata": {},
   "source": [
    "# Useful Functions"
   ]
  },
  {
   "cell_type": "code",
   "execution_count": null,
   "metadata": {},
   "outputs": [],
   "source": [
    "SOURCE_PATH_DATA = 'resources/data/'\n",
    "OUT_PATH_GRAPH = 'resources/output/eda/graph/'\n",
    "OUT_PATH_FILE = 'resources/output/eda/file/'\n",
    "\n",
    "def time_taken(seconds):\n",
    "    print(f'\\nTime Taken: {str(timedelta(seconds=seconds))}')\n",
    "    winsound.Beep(frequency=1000, duration=100)\n",
    "    winsound.Beep(frequency=1500, duration=50)"
   ]
  },
  {
   "cell_type": "markdown",
   "metadata": {},
   "source": [
    "# Data Preparation"
   ]
  },
  {
   "cell_type": "markdown",
   "metadata": {},
   "source": [
    "### Data Loading (Raw Data)"
   ]
  },
  {
   "cell_type": "code",
   "execution_count": null,
   "metadata": {},
   "outputs": [],
   "source": [
    "def load_data(currency_pair, periods):\n",
    "    df_list = []\n",
    "    for period in periods:\n",
    "        source_file = f'resources/data/DAT_ASCII_{currency_pair}_T_{period}.csv'\n",
    "        df_chunks   = pd.read_csv(source_file, sep=',',\n",
    "                                  header=None, names=['datetime', 'bid', 'ask', 'vol'],\n",
    "                                  usecols=['datetime', 'bid', 'ask'],\n",
    "                                  parse_dates=['datetime'],\n",
    "                                  date_parser=lambda x: pd.to_datetime(x, format='%Y%m%d %H%M%S%f'),\n",
    "                                  chunksize=50_000)\n",
    "        df = pd.concat(df_chunks)\n",
    "        df_list.append(df)\n",
    "\n",
    "    return pd.concat(df_list)"
   ]
  },
  {
   "cell_type": "code",
   "execution_count": null,
   "metadata": {},
   "outputs": [],
   "source": [
    "EXEC_START = time.time()\n",
    "\n",
    "currency_pair = 'EURUSD'\n",
    "periods       = [f'2019{str(x+1).zfill(2)}' for x in range(12)]\n",
    "\n",
    "timeseries_df = load_data(currency_pair, periods)\n",
    "\n",
    "EXEC_END = time.time()\n",
    "time_taken(EXEC_END - EXEC_START)"
   ]
  },
  {
   "cell_type": "code",
   "execution_count": null,
   "metadata": {},
   "outputs": [],
   "source": [
    "vp.faststat(timeseries_df)"
   ]
  },
  {
   "cell_type": "markdown",
   "metadata": {},
   "source": [
    "### Time Series Aggregation"
   ]
  },
  {
   "cell_type": "code",
   "execution_count": null,
   "metadata": {},
   "outputs": [],
   "source": [
    "def aggregate(df, rule):\n",
    "    bid_df = df.set_index('datetime')['bid'].resample(rule).ohlc().reset_index()\n",
    "    ask_df = df.set_index('datetime')['ask'].resample(rule).ohlc().reset_index()\n",
    "\n",
    "    bid_df.dropna(inplace=True)\n",
    "    ask_df.dropna(inplace=True)\n",
    "\n",
    "    bid_df.reset_index(drop=True, inplace=True)\n",
    "    ask_df.reset_index(drop=True, inplace=True)\n",
    "    \n",
    "    new_df = pd.DataFrame({\n",
    "        'datetime': bid_df['datetime'],\n",
    "\n",
    "        'open_bid': bid_df['open'],\n",
    "        'high_bid': bid_df['high'],\n",
    "        'low_bid': bid_df['low'],\n",
    "        'bid': bid_df['close'],\n",
    "\n",
    "        'open_ask': ask_df['open'],\n",
    "        'high_ask': ask_df['high'],\n",
    "        'low_ask': ask_df['low'],\n",
    "        'ask': ask_df['close']\n",
    "    })\n",
    "    new_df['datetime'] = new_df['datetime'].dt.strftime('%Y-%m-%d %H:%M:%S')\n",
    "    \n",
    "    for column in [x for x in new_df.columns if x != 'datetime']:\n",
    "        new_df[column] = np.round(new_df[column], 5)\n",
    "    \n",
    "    return new_df"
   ]
  },
  {
   "cell_type": "code",
   "execution_count": null,
   "metadata": {},
   "outputs": [],
   "source": [
    "# Aggregation (Daily)\n",
    "day_df = aggregate(timeseries_df, rule='1D')\n",
    "vp.faststat(day_df)"
   ]
  },
  {
   "cell_type": "code",
   "execution_count": null,
   "metadata": {},
   "outputs": [],
   "source": [
    "# Aggregation (Hourly)\n",
    "hour_df = aggregate(timeseries_df, rule='1H')\n",
    "vp.faststat(hour_df)"
   ]
  },
  {
   "cell_type": "code",
   "execution_count": null,
   "metadata": {},
   "outputs": [],
   "source": [
    "# Aggregation (Minute)\n",
    "min_df = aggregate(timeseries_df, rule='1Min')\n",
    "vp.faststat(min_df)"
   ]
  },
  {
   "cell_type": "code",
   "execution_count": null,
   "metadata": {
    "scrolled": false
   },
   "outputs": [],
   "source": [
    "# Export\n",
    "EXEC_START = time.time()\n",
    "\n",
    "fp.generate_csv(day_df, out_path=OUT_PATH_FILE,\n",
    "                out_filename=f'DAT_ASCII_{currency_pair}_Day.csv', export_index=False)\n",
    "fp.generate_csv(hour_df, out_path=OUT_PATH_FILE,\n",
    "                out_filename=f'DAT_ASCII_{currency_pair}_Hour.csv', export_index=False)\n",
    "fp.generate_csv(min_df, out_path=OUT_PATH_FILE,\n",
    "                out_filename=f'DAT_ASCII_{currency_pair}_Minute.csv', export_index=False)\n",
    "\n",
    "EXEC_END = time.time()\n",
    "time_taken(EXEC_END - EXEC_START)"
   ]
  },
  {
   "cell_type": "markdown",
   "metadata": {},
   "source": [
    "# Feature Engineering"
   ]
  },
  {
   "cell_type": "markdown",
   "metadata": {},
   "source": [
    "### Data Loading (Aggregated Data)"
   ]
  },
  {
   "cell_type": "code",
   "execution_count": null,
   "metadata": {},
   "outputs": [],
   "source": [
    "def load_data(currency_pair, time_type):\n",
    "    time_types = ['Day', 'Hour', 'Minute']\n",
    "    assert time_type in time_types, f'{time_type} not in valid list: {time_types}'\n",
    "    \n",
    "    filename    = f'DAT_ASCII_{currency_pair}_{time_type}.csv'\n",
    "    source_file = f'{OUT_PATH_FILE}{filename}'\n",
    "    df_chunks   = pd.read_csv(source_file, sep=';',\n",
    "                              parse_dates=['datetime'],\n",
    "                              date_parser=lambda x: pd.to_datetime(x, format='%Y-%m-%d %H:%M:%S'),\n",
    "                              chunksize=50_000)\n",
    "    return pd.concat(df_chunks)"
   ]
  },
  {
   "cell_type": "code",
   "execution_count": null,
   "metadata": {},
   "outputs": [],
   "source": [
    "currency_pair = 'EURUSD'\n",
    "day_df  = load_data(currency_pair, time_type='Day')\n",
    "hour_df = load_data(currency_pair, time_type='Hour')\n",
    "min_df  = load_data(currency_pair, time_type='Minute')"
   ]
  },
  {
   "cell_type": "markdown",
   "metadata": {},
   "source": [
    "### Feature Engineering"
   ]
  },
  {
   "cell_type": "code",
   "execution_count": null,
   "metadata": {},
   "outputs": [],
   "source": [
    "def ta_features(df):\n",
    "    new_df = df.copy()\n",
    "    \n",
    "    new_df['volume'] = 1\n",
    "    new_df = ta.add_all_ta_features(new_df, 'open_bid', 'high_bid', 'low_bid', 'bid', 'volume')\n",
    "    \n",
    "    # Remove volume related features\n",
    "    new_df.drop(columns=[x for x in new_df.columns if 'volume' in x or 'momentum_mfi' in x], inplace=True)\n",
    "    \n",
    "    # Column trend_trix is having highest number of leading N/A value\n",
    "    index  = new_df[new_df['trend_trix'].isna() == False].index[0]\n",
    "    new_df = new_df[index:].copy()\n",
    "    new_df.reset_index(inplace=True, drop=True)\n",
    "    \n",
    "    # Start from psar up/down indicator with starting signal\n",
    "    up_index   = new_df[new_df['trend_psar_up_indicator'] == 1]['trend_psar_up_indicator'].index[0]\n",
    "    down_index = new_df[new_df['trend_psar_down_indicator'] == 1]['trend_psar_down_indicator'].index[0]\n",
    "    index      = min(up_index, down_index)\n",
    "    new_df     = new_df[index:].copy()\n",
    "    new_df.reset_index(inplace=True, drop=True)\n",
    "    \n",
    "    new_df.fillna(0, inplace=True)\n",
    "    return new_df"
   ]
  },
  {
   "cell_type": "code",
   "execution_count": null,
   "metadata": {},
   "outputs": [],
   "source": [
    "day_df = ta_features(day_df)\n",
    "day_df.shape"
   ]
  },
  {
   "cell_type": "code",
   "execution_count": null,
   "metadata": {},
   "outputs": [],
   "source": [
    "hour_df = ta_features(hour_df)\n",
    "hour_df.shape"
   ]
  },
  {
   "cell_type": "code",
   "execution_count": null,
   "metadata": {},
   "outputs": [],
   "source": [
    "min_df  = ta_features(min_df)\n",
    "min_df.shape"
   ]
  },
  {
   "cell_type": "markdown",
   "metadata": {},
   "source": [
    "### Histogram"
   ]
  },
  {
   "cell_type": "code",
   "execution_count": null,
   "metadata": {},
   "outputs": [],
   "source": [
    "def histogram(df, title):\n",
    "    vp.histogram(df, title=title, out_path=OUT_PATH_GRAPH, layout_height=4096)"
   ]
  },
  {
   "cell_type": "code",
   "execution_count": null,
   "metadata": {},
   "outputs": [],
   "source": [
    "histogram(day_df, title='Histogram - Day')"
   ]
  },
  {
   "cell_type": "code",
   "execution_count": null,
   "metadata": {},
   "outputs": [],
   "source": [
    "histogram(hour_df, title='Histogram - Hour')"
   ]
  },
  {
   "cell_type": "code",
   "execution_count": null,
   "metadata": {},
   "outputs": [],
   "source": [
    "histogram(min_df, title='Histogram - Minute')"
   ]
  },
  {
   "cell_type": "markdown",
   "metadata": {},
   "source": [
    "### Violin-Plot"
   ]
  },
  {
   "cell_type": "code",
   "execution_count": null,
   "metadata": {},
   "outputs": [],
   "source": [
    "def violinplot(df, title):\n",
    "    vp.violinplot(df, title=title, out_path=OUT_PATH_GRAPH, layout_height=4096)"
   ]
  },
  {
   "cell_type": "code",
   "execution_count": null,
   "metadata": {},
   "outputs": [],
   "source": [
    "violinplot(day_df, title='Violin-Plot - Day')"
   ]
  },
  {
   "cell_type": "code",
   "execution_count": null,
   "metadata": {},
   "outputs": [],
   "source": [
    "violinplot(hour_df, title='Violin-Plot - Hour')"
   ]
  },
  {
   "cell_type": "code",
   "execution_count": null,
   "metadata": {},
   "outputs": [],
   "source": [
    "violinplot(min_df, title='Violin-Plot - Minute')"
   ]
  },
  {
   "cell_type": "markdown",
   "metadata": {},
   "source": [
    "# Dimensionality Reduction"
   ]
  },
  {
   "cell_type": "markdown",
   "metadata": {},
   "source": [
    "### Correlation Matrix - Original"
   ]
  },
  {
   "cell_type": "code",
   "execution_count": null,
   "metadata": {},
   "outputs": [],
   "source": [
    "def corrmatrix(df, title):\n",
    "    tmp_df = df.drop(columns=[x for x in df.columns if any([y for y in ['datetime', '_bid', '_ask'] if y in x])]).copy()\n",
    "    vp.corrmatrix(tmp_df, title=title, out_path=OUT_PATH_GRAPH, layout_height=1024)"
   ]
  },
  {
   "cell_type": "code",
   "execution_count": null,
   "metadata": {},
   "outputs": [],
   "source": [
    "corrmatrix(day_df, title='Correlation Matrix - Day')"
   ]
  },
  {
   "cell_type": "code",
   "execution_count": null,
   "metadata": {},
   "outputs": [],
   "source": [
    "corrmatrix(hour_df, title='Correlation Matrix - Hour')"
   ]
  },
  {
   "cell_type": "code",
   "execution_count": null,
   "metadata": {},
   "outputs": [],
   "source": [
    "corrmatrix(min_df, title='Correlation Matrix - Minute')"
   ]
  },
  {
   "cell_type": "markdown",
   "metadata": {},
   "source": [
    "### Feature Selection"
   ]
  },
  {
   "cell_type": "code",
   "execution_count": null,
   "metadata": {},
   "outputs": [],
   "source": [
    "def dropcorr(df, corr_ratio):\n",
    "    new_df = df.drop(columns=[x for x in df.columns if any([y for y in ['datetime', '_bid', '_ask'] if y in x])]).copy()\n",
    "    new_df = dr.dropcorr(new_df, corr_ratio=corr_ratio)\n",
    "    \n",
    "    return new_df"
   ]
  },
  {
   "cell_type": "code",
   "execution_count": null,
   "metadata": {},
   "outputs": [],
   "source": [
    "selft_day_df = dropcorr(day_df, corr_ratio=.9)"
   ]
  },
  {
   "cell_type": "code",
   "execution_count": null,
   "metadata": {},
   "outputs": [],
   "source": [
    "selft_hour_df = dropcorr(hour_df, corr_ratio=.9)"
   ]
  },
  {
   "cell_type": "code",
   "execution_count": null,
   "metadata": {},
   "outputs": [],
   "source": [
    "selft_min_df = dropcorr(min_df, corr_ratio=.9)"
   ]
  },
  {
   "cell_type": "markdown",
   "metadata": {},
   "source": [
    "### Correlation Matrix - After Selection"
   ]
  },
  {
   "cell_type": "code",
   "execution_count": null,
   "metadata": {},
   "outputs": [],
   "source": [
    "corrmatrix(selft_day_df, title='Correlation Matrix - Day - Selected Features')"
   ]
  },
  {
   "cell_type": "code",
   "execution_count": null,
   "metadata": {},
   "outputs": [],
   "source": [
    "corrmatrix(selft_hour_df, title='Correlation Matrix - Hour - Selected Features')"
   ]
  },
  {
   "cell_type": "code",
   "execution_count": null,
   "metadata": {},
   "outputs": [],
   "source": [
    "corrmatrix(selft_min_df, title='Correlation Matrix - Minute - Selected Features')"
   ]
  },
  {
   "cell_type": "markdown",
   "metadata": {},
   "source": [
    "### Feature Extraction"
   ]
  },
  {
   "cell_type": "code",
   "execution_count": null,
   "metadata": {},
   "outputs": [],
   "source": [
    "# Feature scaling\n",
    "def normalize(df):\n",
    "    new_df = df.drop(columns=[x for x in df.columns if any([y for y in ['datetime', 'bid', 'ask'] if y in x])]).copy()\n",
    "    return nrm.standard_scaler(new_df, new_df.columns, drop=True)"
   ]
  },
  {
   "cell_type": "code",
   "execution_count": null,
   "metadata": {},
   "outputs": [],
   "source": [
    "extft_day_df = normalize(day_df)"
   ]
  },
  {
   "cell_type": "code",
   "execution_count": null,
   "metadata": {},
   "outputs": [],
   "source": [
    "extft_hour_df = normalize(hour_df)"
   ]
  },
  {
   "cell_type": "code",
   "execution_count": null,
   "metadata": {},
   "outputs": [],
   "source": [
    "extft_min_df = normalize(min_df)"
   ]
  },
  {
   "cell_type": "code",
   "execution_count": null,
   "metadata": {},
   "outputs": [],
   "source": [
    "# PCA Evaluation\n",
    "def pca_evaluation(df, columns, title):\n",
    "    _, explained_variances = dr.pca_reduction(df, columns, n_component=df[columns].shape[1], drop=True)\n",
    "    \n",
    "    dr.expvar_evaluation(explained_variances, title=title, out_path=OUT_PATH_GRAPH)"
   ]
  },
  {
   "cell_type": "code",
   "execution_count": null,
   "metadata": {},
   "outputs": [],
   "source": [
    "pca_evaluation(extft_day_df, extft_day_df.columns, title='PCA Evaluation - Day')"
   ]
  },
  {
   "cell_type": "code",
   "execution_count": null,
   "metadata": {},
   "outputs": [],
   "source": [
    "pca_evaluation(extft_hour_df, extft_hour_df.columns, title='PCA Evaluation - Hour')"
   ]
  },
  {
   "cell_type": "code",
   "execution_count": null,
   "metadata": {},
   "outputs": [],
   "source": [
    "pca_evaluation(extft_min_df, extft_min_df.columns, title='PCA Evaluation - Minute')"
   ]
  },
  {
   "cell_type": "code",
   "execution_count": null,
   "metadata": {},
   "outputs": [],
   "source": [
    "# PCA Reduction\n",
    "def pca_reduction(ori_df, df, columns, n_component):\n",
    "    new_df, _ = dr.pca_reduction(df, columns, n_component=n_component, drop=True)\n",
    "    \n",
    "    retain_columns = [x for x in ori_df.columns if any([y for y in ['datetime', 'bid', 'ask'] if y in x])]\n",
    "    new_df = ori_df[retain_columns].merge(new_df, left_index=True, right_index=True, how='inner')\n",
    "    \n",
    "    return new_df"
   ]
  },
  {
   "cell_type": "code",
   "execution_count": null,
   "metadata": {},
   "outputs": [],
   "source": [
    "extft_day_df = pca_reduction(day_df, extft_day_df, extft_day_df.columns, 15)"
   ]
  },
  {
   "cell_type": "code",
   "execution_count": null,
   "metadata": {},
   "outputs": [],
   "source": [
    "extft_hour_df = pca_reduction(hour_df, extft_hour_df, extft_hour_df.columns, 15)"
   ]
  },
  {
   "cell_type": "code",
   "execution_count": null,
   "metadata": {},
   "outputs": [],
   "source": [
    "extft_min_df = pca_reduction(min_df, extft_min_df, extft_min_df.columns, 15)"
   ]
  },
  {
   "cell_type": "markdown",
   "metadata": {},
   "source": [
    "### Correlation Matrix - After Extraction"
   ]
  },
  {
   "cell_type": "code",
   "execution_count": null,
   "metadata": {},
   "outputs": [],
   "source": [
    "corrmatrix(extft_day_df, title='Correlation Matrix - Day - Extracted Features')"
   ]
  },
  {
   "cell_type": "code",
   "execution_count": null,
   "metadata": {},
   "outputs": [],
   "source": [
    "corrmatrix(extft_hour_df, title='Correlation Matrix - Hour - Extracted Features')"
   ]
  },
  {
   "cell_type": "code",
   "execution_count": null,
   "metadata": {},
   "outputs": [],
   "source": [
    "corrmatrix(extft_min_df, title='Correlation Matrix - Minute - Extracted Features')"
   ]
  },
  {
   "cell_type": "markdown",
   "metadata": {},
   "source": [
    "### Pair-Plot"
   ]
  },
  {
   "cell_type": "code",
   "execution_count": null,
   "metadata": {},
   "outputs": [],
   "source": [
    "def pairplot(df, title):\n",
    "    vp.pairplot(df, title, out_path=OUT_PATH_GRAPH, layout_height=2048, layout_width=2048)"
   ]
  },
  {
   "cell_type": "code",
   "execution_count": null,
   "metadata": {},
   "outputs": [],
   "source": [
    "pairplot(extft_day_df, title='Pair-Plot - Day - Extracted Features')"
   ]
  },
  {
   "cell_type": "code",
   "execution_count": null,
   "metadata": {},
   "outputs": [],
   "source": [
    "pairplot(extft_hour_df, title='Pair-Plot - Hour - Extracted Features')"
   ]
  },
  {
   "cell_type": "code",
   "execution_count": null,
   "metadata": {},
   "outputs": [],
   "source": [
    "pairplot(extft_min_df, title='Pair-Plot - Minute - Extracted Features')"
   ]
  },
  {
   "cell_type": "markdown",
   "metadata": {},
   "source": [
    "### Feature Selection + Extraction"
   ]
  },
  {
   "cell_type": "code",
   "execution_count": null,
   "metadata": {},
   "outputs": [],
   "source": [
    "selextft_day_df = normalize(selft_day_df)\n",
    "pca_evaluation(selextft_day_df, selextft_day_df.columns, title='PCA Evaluation - Day - Selected Feature')"
   ]
  },
  {
   "cell_type": "code",
   "execution_count": null,
   "metadata": {},
   "outputs": [],
   "source": [
    "selextft_hour_df = normalize(selft_hour_df)\n",
    "pca_evaluation(selextft_hour_df, selextft_hour_df.columns, title='PCA Evaluation - Hour - Selected Feature')"
   ]
  },
  {
   "cell_type": "code",
   "execution_count": null,
   "metadata": {},
   "outputs": [],
   "source": [
    "selextft_min_df = normalize(selft_min_df)\n",
    "pca_evaluation(selextft_min_df, selextft_min_df.columns, title='PCA Evaluation - Minute - Selected Feature')"
   ]
  },
  {
   "cell_type": "markdown",
   "metadata": {},
   "source": [
    "### Export Feature"
   ]
  },
  {
   "cell_type": "code",
   "execution_count": null,
   "metadata": {},
   "outputs": [],
   "source": [
    "def export_feature(df, filename):\n",
    "    new_df = df.copy()\n",
    "    \n",
    "    for column in [x for x in new_df.columns if x != 'datetime']:\n",
    "        new_df[column] = np.round(new_df[column], 5)\n",
    "        \n",
    "    fp.generate_csv(new_df, out_path=OUT_PATH_FILE, out_filename=filename, export_index=False)"
   ]
  },
  {
   "cell_type": "code",
   "execution_count": null,
   "metadata": {},
   "outputs": [],
   "source": [
    "# Export\n",
    "EXEC_START = time.time()\n",
    "\n",
    "export_feature(extft_day_df, f'DAT_ASCII_{currency_pair}_Day_Feature.csv')\n",
    "export_feature(extft_hour_df, f'DAT_ASCII_{currency_pair}_Hour_Feature.csv')\n",
    "export_feature(extft_min_df, f'DAT_ASCII_{currency_pair}_Minute_Feature.csv')\n",
    "\n",
    "EXEC_END = time.time()\n",
    "time_taken(EXEC_END - EXEC_START)"
   ]
  },
  {
   "cell_type": "code",
   "execution_count": null,
   "metadata": {},
   "outputs": [],
   "source": []
  }
 ],
 "metadata": {
  "kernelspec": {
   "display_name": "Python 3",
   "language": "python",
   "name": "python3"
  },
  "language_info": {
   "codemirror_mode": {
    "name": "ipython",
    "version": 3
   },
   "file_extension": ".py",
   "mimetype": "text/x-python",
   "name": "python",
   "nbconvert_exporter": "python",
   "pygments_lexer": "ipython3",
   "version": "3.7.3"
  }
 },
 "nbformat": 4,
 "nbformat_minor": 2
}
